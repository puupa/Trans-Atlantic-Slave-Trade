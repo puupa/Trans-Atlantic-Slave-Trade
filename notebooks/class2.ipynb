{
 "cells": [
  {
   "cell_type": "code",
   "execution_count": 2,
   "metadata": {},
   "outputs": [],
   "source": [
    "import pandas as pd\n",
    "import numpy as np\n",
    "\n",
    "file = '../data/tastdb-exp-2020.sav'\n",
    "\n",
    "df = pd.read_spss(file)"
   ]
  },
  {
   "cell_type": "code",
   "execution_count": 3,
   "metadata": {},
   "outputs": [
    {
     "data": {
      "text/html": [
       "<div>\n",
       "<style scoped>\n",
       "    .dataframe tbody tr th:only-of-type {\n",
       "        vertical-align: middle;\n",
       "    }\n",
       "\n",
       "    .dataframe tbody tr th {\n",
       "        vertical-align: top;\n",
       "    }\n",
       "\n",
       "    .dataframe thead th {\n",
       "        text-align: right;\n",
       "    }\n",
       "</style>\n",
       "<table border=\"1\" class=\"dataframe\">\n",
       "  <thead>\n",
       "    <tr style=\"text-align: right;\">\n",
       "      <th></th>\n",
       "      <th>VOYAGEID</th>\n",
       "      <th>ADLT1IMP</th>\n",
       "      <th>ADLT2IMP</th>\n",
       "      <th>ADLT3IMP</th>\n",
       "      <th>ADPSALE1</th>\n",
       "      <th>ADPSALE2</th>\n",
       "      <th>ADULT1</th>\n",
       "      <th>ADULT2</th>\n",
       "      <th>ADULT3</th>\n",
       "      <th>ADULT4</th>\n",
       "      <th>...</th>\n",
       "      <th>YEAR5</th>\n",
       "      <th>YEAR10</th>\n",
       "      <th>YEAR25</th>\n",
       "      <th>YEAR100</th>\n",
       "      <th>YEARAF</th>\n",
       "      <th>YEARAM</th>\n",
       "      <th>YEARDEP</th>\n",
       "      <th>YRCONS</th>\n",
       "      <th>YRREG</th>\n",
       "      <th>filter_$</th>\n",
       "    </tr>\n",
       "  </thead>\n",
       "  <tbody>\n",
       "    <tr>\n",
       "      <th>0</th>\n",
       "      <td>1.0</td>\n",
       "      <td>NaN</td>\n",
       "      <td>1.0</td>\n",
       "      <td>NaN</td>\n",
       "      <td>NaN</td>\n",
       "      <td>NaN</td>\n",
       "      <td>NaN</td>\n",
       "      <td>NaN</td>\n",
       "      <td>NaN</td>\n",
       "      <td>NaN</td>\n",
       "      <td>...</td>\n",
       "      <td>years 1816-20</td>\n",
       "      <td>years 1811-20</td>\n",
       "      <td>years 1801-25</td>\n",
       "      <td>1800.0</td>\n",
       "      <td>1816.0</td>\n",
       "      <td>1817.0</td>\n",
       "      <td>1816.0</td>\n",
       "      <td>NaN</td>\n",
       "      <td>NaN</td>\n",
       "      <td>Not Selected</td>\n",
       "    </tr>\n",
       "    <tr>\n",
       "      <th>1</th>\n",
       "      <td>2.0</td>\n",
       "      <td>NaN</td>\n",
       "      <td>NaN</td>\n",
       "      <td>NaN</td>\n",
       "      <td>NaN</td>\n",
       "      <td>NaN</td>\n",
       "      <td>NaN</td>\n",
       "      <td>NaN</td>\n",
       "      <td>NaN</td>\n",
       "      <td>NaN</td>\n",
       "      <td>...</td>\n",
       "      <td>years 1816-20</td>\n",
       "      <td>years 1811-20</td>\n",
       "      <td>years 1801-25</td>\n",
       "      <td>1800.0</td>\n",
       "      <td>1817.0</td>\n",
       "      <td>1817.0</td>\n",
       "      <td>1816.0</td>\n",
       "      <td>NaN</td>\n",
       "      <td>NaN</td>\n",
       "      <td>Not Selected</td>\n",
       "    </tr>\n",
       "    <tr>\n",
       "      <th>2</th>\n",
       "      <td>3.0</td>\n",
       "      <td>NaN</td>\n",
       "      <td>NaN</td>\n",
       "      <td>NaN</td>\n",
       "      <td>NaN</td>\n",
       "      <td>NaN</td>\n",
       "      <td>NaN</td>\n",
       "      <td>NaN</td>\n",
       "      <td>NaN</td>\n",
       "      <td>NaN</td>\n",
       "      <td>...</td>\n",
       "      <td>years 1816-20</td>\n",
       "      <td>years 1811-20</td>\n",
       "      <td>years 1801-25</td>\n",
       "      <td>1800.0</td>\n",
       "      <td>1817.0</td>\n",
       "      <td>1817.0</td>\n",
       "      <td>1816.0</td>\n",
       "      <td>NaN</td>\n",
       "      <td>NaN</td>\n",
       "      <td>Not Selected</td>\n",
       "    </tr>\n",
       "    <tr>\n",
       "      <th>3</th>\n",
       "      <td>4.0</td>\n",
       "      <td>NaN</td>\n",
       "      <td>NaN</td>\n",
       "      <td>NaN</td>\n",
       "      <td>NaN</td>\n",
       "      <td>NaN</td>\n",
       "      <td>NaN</td>\n",
       "      <td>NaN</td>\n",
       "      <td>NaN</td>\n",
       "      <td>NaN</td>\n",
       "      <td>...</td>\n",
       "      <td>years 1816-20</td>\n",
       "      <td>years 1811-20</td>\n",
       "      <td>years 1801-25</td>\n",
       "      <td>1800.0</td>\n",
       "      <td>1817.0</td>\n",
       "      <td>1817.0</td>\n",
       "      <td>1816.0</td>\n",
       "      <td>NaN</td>\n",
       "      <td>NaN</td>\n",
       "      <td>Not Selected</td>\n",
       "    </tr>\n",
       "    <tr>\n",
       "      <th>4</th>\n",
       "      <td>5.0</td>\n",
       "      <td>NaN</td>\n",
       "      <td>NaN</td>\n",
       "      <td>NaN</td>\n",
       "      <td>NaN</td>\n",
       "      <td>NaN</td>\n",
       "      <td>NaN</td>\n",
       "      <td>NaN</td>\n",
       "      <td>NaN</td>\n",
       "      <td>NaN</td>\n",
       "      <td>...</td>\n",
       "      <td>years 1816-20</td>\n",
       "      <td>years 1811-20</td>\n",
       "      <td>years 1801-25</td>\n",
       "      <td>1800.0</td>\n",
       "      <td>1817.0</td>\n",
       "      <td>1817.0</td>\n",
       "      <td>1817.0</td>\n",
       "      <td>NaN</td>\n",
       "      <td>NaN</td>\n",
       "      <td>Not Selected</td>\n",
       "    </tr>\n",
       "  </tbody>\n",
       "</table>\n",
       "<p>5 rows × 274 columns</p>\n",
       "</div>"
      ],
      "text/plain": [
       "   VOYAGEID  ADLT1IMP  ADLT2IMP  ADLT3IMP ADPSALE1 ADPSALE2  ADULT1  ADULT2  \\\n",
       "0       1.0       NaN       1.0       NaN      NaN      NaN     NaN     NaN   \n",
       "1       2.0       NaN       NaN       NaN      NaN      NaN     NaN     NaN   \n",
       "2       3.0       NaN       NaN       NaN      NaN      NaN     NaN     NaN   \n",
       "3       4.0       NaN       NaN       NaN      NaN      NaN     NaN     NaN   \n",
       "4       5.0       NaN       NaN       NaN      NaN      NaN     NaN     NaN   \n",
       "\n",
       "   ADULT3  ADULT4  ...          YEAR5         YEAR10         YEAR25 YEAR100  \\\n",
       "0     NaN     NaN  ...  years 1816-20  years 1811-20  years 1801-25  1800.0   \n",
       "1     NaN     NaN  ...  years 1816-20  years 1811-20  years 1801-25  1800.0   \n",
       "2     NaN     NaN  ...  years 1816-20  years 1811-20  years 1801-25  1800.0   \n",
       "3     NaN     NaN  ...  years 1816-20  years 1811-20  years 1801-25  1800.0   \n",
       "4     NaN     NaN  ...  years 1816-20  years 1811-20  years 1801-25  1800.0   \n",
       "\n",
       "   YEARAF  YEARAM  YEARDEP  YRCONS  YRREG      filter_$  \n",
       "0  1816.0  1817.0   1816.0     NaN    NaN  Not Selected  \n",
       "1  1817.0  1817.0   1816.0     NaN    NaN  Not Selected  \n",
       "2  1817.0  1817.0   1816.0     NaN    NaN  Not Selected  \n",
       "3  1817.0  1817.0   1816.0     NaN    NaN  Not Selected  \n",
       "4  1817.0  1817.0   1817.0     NaN    NaN  Not Selected  \n",
       "\n",
       "[5 rows x 274 columns]"
      ]
     },
     "execution_count": 3,
     "metadata": {},
     "output_type": "execute_result"
    }
   ],
   "source": [
    "df.head()"
   ]
  },
  {
   "cell_type": "code",
   "execution_count": 4,
   "metadata": {},
   "outputs": [
    {
     "data": {
      "text/plain": [
       "SHIPNAME                  NATIONAL     \n",
       "                          Great Britain    243\n",
       "                          USA              234\n",
       "Mary                      Great Britain    196\n",
       "Nancy                     Great Britain    142\n",
       "                          Portugal         113\n",
       "                                          ... \n",
       "Johan van Oldenbarneveld  Netherlands        1\n",
       "Joceline                  Great Britain      1\n",
       "Joana                     Portugal           1\n",
       "Joachim                   France             1\n",
       "Órion                     USA                1\n",
       "Length: 8440, dtype: int64"
      ]
     },
     "execution_count": 4,
     "metadata": {},
     "output_type": "execute_result"
    }
   ],
   "source": [
    "df[['SHIPNAME', 'NATIONAL']].value_counts()"
   ]
  },
  {
   "cell_type": "code",
   "execution_count": 6,
   "metadata": {},
   "outputs": [
    {
     "name": "stdout",
     "output_type": "stream",
     "text": [
      "1.0 271.0\n"
     ]
    }
   ],
   "source": [
    "child1 = df['CHILD1']\n",
    "\n",
    "print(child1.min(), child1.max())"
   ]
  },
  {
   "cell_type": "code",
   "execution_count": 18,
   "metadata": {},
   "outputs": [
    {
     "name": "stdout",
     "output_type": "stream",
     "text": [
      "(0.999, 91.0]     515\n",
      "(91.0, 181.0]      17\n",
      "(181.0, 271.0]      2\n",
      "Name: CHILD1, dtype: int64\n"
     ]
    }
   ],
   "source": [
    "print(child1.value_counts(bins=[1, 91, 181, 271]))"
   ]
  },
  {
   "cell_type": "code",
   "execution_count": 17,
   "metadata": {},
   "outputs": [
    {
     "name": "stdout",
     "output_type": "stream",
     "text": [
      "{'1-90': 515, '91-180': 17, '181-271': 2}\n"
     ]
    }
   ],
   "source": [
    "bins = {\"1-90\": 0, \"91-180\": 0, \"181-271\":0 }\n",
    "\n",
    "for c in child1:\n",
    "    if not np.isnan(c):\n",
    "        if c <= 91:\n",
    "            bins[\"1-90\"] = bins[\"1-90\"] + 1\n",
    "        elif c <= 181:\n",
    "            bins[\"91-180\"] = bins[\"91-180\"] + 1\n",
    "        else:\n",
    "            bins[\"181-271\"] = bins[\"181-271\"] + 1\n",
    "\n",
    "print(bins)"
   ]
  },
  {
   "cell_type": "code",
   "execution_count": 25,
   "metadata": {},
   "outputs": [
    {
     "data": {
      "text/plain": [
       "<Axes: ylabel='Frequency'>"
      ]
     },
     "execution_count": 25,
     "metadata": {},
     "output_type": "execute_result"
    },
    {
     "data": {
      "image/png": "[encoded data removed]",
      "text/plain": [
       "<Figure size 640x480 with 1 Axes>"
      ]
     },
     "metadata": {},
     "output_type": "display_data"
    }
   ],
   "source": [
    "child1.plot.hist(bins=[1, 91, 181, 271], label=\"log scale\", legend=True)"
   ]
  },
  {
   "cell_type": "code",
   "execution_count": null,
   "metadata": {},
   "outputs": [],
   "source": []
  }
 ],
 "metadata": {
  "kernelspec": {
   "display_name": "Python 3",
   "language": "python",
   "name": "python3"
  },
  "language_info": {
   "codemirror_mode": {
    "name": "ipython",
    "version": 3
   },
   "file_extension": ".py",
   "mimetype": "text/x-python",
   "name": "python",
   "nbconvert_exporter": "python",
   "pygments_lexer": "ipython3",
   "version": "3.10.13"
  }
 },
 "nbformat": 4,
 "nbformat_minor": 2
}
